{
 "cells": [
  {
   "cell_type": "code",
   "execution_count": null,
   "metadata": {
    "collapsed": true
   },
   "outputs": [],
   "source": [
    "# Data Structure\n",
    "whatsapp: chat_number,date,time,person,content"
   ]
  },
  {
   "cell_type": "code",
   "execution_count": 4,
   "metadata": {
    "collapsed": false
   },
   "outputs": [],
   "source": [
    "folder_name = \"/whatsapp/\"\n",
    "base_dir = \"/Users/gulshan/kaggle/\"\n",
    "data_dir = base_dir+\"/data/\"+folder_name\n",
    "output_dir = base_dir+\"/output/\"+folder_name"
   ]
  },
  {
   "cell_type": "code",
   "execution_count": 30,
   "metadata": {
    "collapsed": false
   },
   "outputs": [],
   "source": [
    "f=open(data_dir+'whatsapp.txt','r').readlines()"
   ]
  },
  {
   "cell_type": "code",
   "execution_count": 64,
   "metadata": {
    "collapsed": false
   },
   "outputs": [
    {
     "name": "stdout",
     "output_type": "stream",
     "text": [
      "[8/15/2015, 12:01] +91 81082 82883: Happy journey 😊\n",
      "\n",
      "[ 91\n",
      "8 56\n",
      "/ 47\n",
      "1 49\n",
      "5 53\n",
      "/ 47\n",
      "2 50\n",
      "0 48\n",
      "1 49\n",
      "5 53\n",
      ", 44\n",
      "  32\n",
      "1 49\n",
      "2 50\n",
      ": 58\n",
      "0 48\n",
      "1 49\n",
      "] 93\n",
      "� 194\n",
      "� 160\n",
      "+ 43\n",
      "9 57\n",
      "1 49\n",
      "  32\n",
      "8 56\n",
      "1 49\n",
      "0 48\n",
      "8 56\n",
      "2 50\n",
      "  32\n",
      "8 56\n",
      "2 50\n",
      "8 56\n",
      "8 56\n",
      "3 51\n",
      ": 58\n",
      "� 194\n",
      "� 160\n",
      "H 72\n",
      "a 97\n",
      "p 112\n",
      "p 112\n",
      "y 121\n",
      "  32\n",
      "j 106\n",
      "o 111\n",
      "u 117\n",
      "r 114\n",
      "n 110\n",
      "e 101\n",
      "y 121\n",
      "  32\n",
      "� 240\n",
      "� 159\n",
      "� 152\n",
      "� 138\n",
      "\n",
      "10\n"
     ]
    }
   ],
   "source": [
    "k=f[10]\n",
    "print k\n",
    "for l in k:\n",
    "    print l,ord(l)"
   ]
  },
  {
   "cell_type": "code",
   "execution_count": null,
   "metadata": {
    "collapsed": true
   },
   "outputs": [],
   "source": []
  },
  {
   "cell_type": "code",
   "execution_count": 53,
   "metadata": {
    "collapsed": false
   },
   "outputs": [],
   "source": [
    "def get_date_time_whatsapp(text):\n",
    "    tmp=\"\"\n",
    "    for char in text:\n",
    "        if char != \"]\":\n",
    "            tmp+=char\n",
    "        else:\n",
    "            tmp+=\"]\"\n",
    "            break\n",
    "    date_time=tmp.strip(\"[]\").split(\",\")\n",
    "    date=date_time[0].strip()\n",
    "    time=date_time[1].strip()\n",
    "    return (date,time)"
   ]
  },
  {
   "cell_type": "code",
   "execution_count": 56,
   "metadata": {
    "collapsed": true
   },
   "outputs": [],
   "source": [
    "# f1=open(data_dir+'fb.txt','r').readlines()"
   ]
  },
  {
   "cell_type": "code",
   "execution_count": 55,
   "metadata": {
    "collapsed": false
   },
   "outputs": [
    {
     "data": {
      "text/plain": [
       "('8/15/2015', '01:50')"
      ]
     },
     "execution_count": 55,
     "metadata": {},
     "output_type": "execute_result"
    }
   ],
   "source": [
    "k=get_date_time_whatsapp(f[0])\n",
    "k"
   ]
  },
  {
   "cell_type": "code",
   "execution_count": null,
   "metadata": {
    "collapsed": true
   },
   "outputs": [],
   "source": []
  }
 ],
 "metadata": {
  "kernelspec": {
   "display_name": "Python 2",
   "language": "python",
   "name": "python2"
  },
  "language_info": {
   "codemirror_mode": {
    "name": "ipython",
    "version": 2
   },
   "file_extension": ".py",
   "mimetype": "text/x-python",
   "name": "python",
   "nbconvert_exporter": "python",
   "pygments_lexer": "ipython2",
   "version": "2.7.10"
  }
 },
 "nbformat": 4,
 "nbformat_minor": 0
}
